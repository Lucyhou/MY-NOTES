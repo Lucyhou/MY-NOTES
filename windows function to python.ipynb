{
 "cells": [
  {
   "cell_type": "code",
   "execution_count": 61,
   "metadata": {},
   "outputs": [
    {
     "data": {
      "text/html": [
       "<div>\n",
       "<style>\n",
       "    .dataframe thead tr:only-child th {\n",
       "        text-align: right;\n",
       "    }\n",
       "\n",
       "    .dataframe thead th {\n",
       "        text-align: left;\n",
       "    }\n",
       "\n",
       "    .dataframe tbody tr th {\n",
       "        vertical-align: top;\n",
       "    }\n",
       "</style>\n",
       "<table border=\"1\" class=\"dataframe\">\n",
       "  <thead>\n",
       "    <tr style=\"text-align: right;\">\n",
       "      <th></th>\n",
       "      <th>cId</th>\n",
       "      <th>cName</th>\n",
       "      <th>Salary</th>\n",
       "      <th>DepartmentId</th>\n",
       "    </tr>\n",
       "  </thead>\n",
       "  <tbody>\n",
       "    <tr>\n",
       "      <th>0</th>\n",
       "      <td>1</td>\n",
       "      <td>Joe</td>\n",
       "      <td>70000</td>\n",
       "      <td>1</td>\n",
       "    </tr>\n",
       "    <tr>\n",
       "      <th>1</th>\n",
       "      <td>2</td>\n",
       "      <td>Henry</td>\n",
       "      <td>80000</td>\n",
       "      <td>2</td>\n",
       "    </tr>\n",
       "    <tr>\n",
       "      <th>2</th>\n",
       "      <td>3</td>\n",
       "      <td>Sam</td>\n",
       "      <td>60000</td>\n",
       "      <td>2</td>\n",
       "    </tr>\n",
       "    <tr>\n",
       "      <th>3</th>\n",
       "      <td>4</td>\n",
       "      <td>Max</td>\n",
       "      <td>90000</td>\n",
       "      <td>1</td>\n",
       "    </tr>\n",
       "    <tr>\n",
       "      <th>4</th>\n",
       "      <td>5</td>\n",
       "      <td>dd</td>\n",
       "      <td>2000</td>\n",
       "      <td>1</td>\n",
       "    </tr>\n",
       "    <tr>\n",
       "      <th>5</th>\n",
       "      <td>6</td>\n",
       "      <td>aa</td>\n",
       "      <td>3000</td>\n",
       "      <td>1</td>\n",
       "    </tr>\n",
       "  </tbody>\n",
       "</table>\n",
       "</div>"
      ],
      "text/plain": [
       "   cId  cName  Salary  DepartmentId\n",
       "0    1    Joe   70000             1\n",
       "1    2  Henry   80000             2\n",
       "2    3    Sam   60000             2\n",
       "3    4    Max   90000             1\n",
       "4    5     dd    2000             1\n",
       "5    6     aa    3000             1"
      ]
     },
     "execution_count": 61,
     "metadata": {},
     "output_type": "execute_result"
    }
   ],
   "source": [
    "import pandas as pd\n",
    "Employee= pd.DataFrame({'cId':[1,2,3,4,5,6],'cName':['Joe','Henry','Sam','Max','dd','aa'],'Salary':[70000,80000,60000,90000,2000,3000],'DepartmentId':[1,2,2,1,1,1]})\n",
    "Employee= Employee[['cId','cName','Salary','DepartmentId']]\n",
    "Employee"
   ]
  },
  {
   "cell_type": "code",
   "execution_count": 62,
   "metadata": {},
   "outputs": [
    {
     "data": {
      "text/html": [
       "<div>\n",
       "<style>\n",
       "    .dataframe thead tr:only-child th {\n",
       "        text-align: right;\n",
       "    }\n",
       "\n",
       "    .dataframe thead th {\n",
       "        text-align: left;\n",
       "    }\n",
       "\n",
       "    .dataframe tbody tr th {\n",
       "        vertical-align: top;\n",
       "    }\n",
       "</style>\n",
       "<table border=\"1\" class=\"dataframe\">\n",
       "  <thead>\n",
       "    <tr style=\"text-align: right;\">\n",
       "      <th></th>\n",
       "      <th>Id</th>\n",
       "      <th>Name</th>\n",
       "    </tr>\n",
       "  </thead>\n",
       "  <tbody>\n",
       "    <tr>\n",
       "      <th>0</th>\n",
       "      <td>1</td>\n",
       "      <td>IT</td>\n",
       "    </tr>\n",
       "    <tr>\n",
       "      <th>1</th>\n",
       "      <td>2</td>\n",
       "      <td>Sales</td>\n",
       "    </tr>\n",
       "  </tbody>\n",
       "</table>\n",
       "</div>"
      ],
      "text/plain": [
       "   Id   Name\n",
       "0   1     IT\n",
       "1   2  Sales"
      ]
     },
     "execution_count": 62,
     "metadata": {},
     "output_type": "execute_result"
    }
   ],
   "source": [
    "Department= pd.DataFrame({'Id':[1,2],'Name':['IT','Sales']})\n",
    "Department= Department[['Id','Name']]\n",
    "Department"
   ]
  },
  {
   "cell_type": "code",
   "execution_count": 63,
   "metadata": {},
   "outputs": [
    {
     "data": {
      "text/html": [
       "<div>\n",
       "<style>\n",
       "    .dataframe thead tr:only-child th {\n",
       "        text-align: right;\n",
       "    }\n",
       "\n",
       "    .dataframe thead th {\n",
       "        text-align: left;\n",
       "    }\n",
       "\n",
       "    .dataframe tbody tr th {\n",
       "        vertical-align: top;\n",
       "    }\n",
       "</style>\n",
       "<table border=\"1\" class=\"dataframe\">\n",
       "  <thead>\n",
       "    <tr style=\"text-align: right;\">\n",
       "      <th></th>\n",
       "      <th>Id</th>\n",
       "      <th>Name</th>\n",
       "      <th>cId</th>\n",
       "      <th>cName</th>\n",
       "      <th>Salary</th>\n",
       "      <th>DepartmentId</th>\n",
       "    </tr>\n",
       "  </thead>\n",
       "  <tbody>\n",
       "    <tr>\n",
       "      <th>0</th>\n",
       "      <td>1</td>\n",
       "      <td>IT</td>\n",
       "      <td>1</td>\n",
       "      <td>Joe</td>\n",
       "      <td>70000</td>\n",
       "      <td>1</td>\n",
       "    </tr>\n",
       "    <tr>\n",
       "      <th>1</th>\n",
       "      <td>1</td>\n",
       "      <td>IT</td>\n",
       "      <td>4</td>\n",
       "      <td>Max</td>\n",
       "      <td>90000</td>\n",
       "      <td>1</td>\n",
       "    </tr>\n",
       "    <tr>\n",
       "      <th>2</th>\n",
       "      <td>1</td>\n",
       "      <td>IT</td>\n",
       "      <td>5</td>\n",
       "      <td>dd</td>\n",
       "      <td>2000</td>\n",
       "      <td>1</td>\n",
       "    </tr>\n",
       "    <tr>\n",
       "      <th>3</th>\n",
       "      <td>1</td>\n",
       "      <td>IT</td>\n",
       "      <td>6</td>\n",
       "      <td>aa</td>\n",
       "      <td>3000</td>\n",
       "      <td>1</td>\n",
       "    </tr>\n",
       "    <tr>\n",
       "      <th>4</th>\n",
       "      <td>2</td>\n",
       "      <td>Sales</td>\n",
       "      <td>2</td>\n",
       "      <td>Henry</td>\n",
       "      <td>80000</td>\n",
       "      <td>2</td>\n",
       "    </tr>\n",
       "    <tr>\n",
       "      <th>5</th>\n",
       "      <td>2</td>\n",
       "      <td>Sales</td>\n",
       "      <td>3</td>\n",
       "      <td>Sam</td>\n",
       "      <td>60000</td>\n",
       "      <td>2</td>\n",
       "    </tr>\n",
       "  </tbody>\n",
       "</table>\n",
       "</div>"
      ],
      "text/plain": [
       "   Id   Name  cId  cName  Salary  DepartmentId\n",
       "0   1     IT    1    Joe   70000             1\n",
       "1   1     IT    4    Max   90000             1\n",
       "2   1     IT    5     dd    2000             1\n",
       "3   1     IT    6     aa    3000             1\n",
       "4   2  Sales    2  Henry   80000             2\n",
       "5   2  Sales    3    Sam   60000             2"
      ]
     },
     "execution_count": 63,
     "metadata": {},
     "output_type": "execute_result"
    }
   ],
   "source": [
    "pme=pd.merge(Department,Employee,how='outer', left_on='Id', right_on='DepartmentId')\n",
    "pme"
   ]
  },
  {
   "cell_type": "markdown",
   "metadata": {},
   "source": [
    "# way1"
   ]
  },
  {
   "cell_type": "code",
   "execution_count": 89,
   "metadata": {},
   "outputs": [
    {
     "data": {
      "text/html": [
       "<div>\n",
       "<style>\n",
       "    .dataframe thead tr:only-child th {\n",
       "        text-align: right;\n",
       "    }\n",
       "\n",
       "    .dataframe thead th {\n",
       "        text-align: left;\n",
       "    }\n",
       "\n",
       "    .dataframe tbody tr th {\n",
       "        vertical-align: top;\n",
       "    }\n",
       "</style>\n",
       "<table border=\"1\" class=\"dataframe\">\n",
       "  <thead>\n",
       "    <tr style=\"text-align: right;\">\n",
       "      <th></th>\n",
       "      <th>Name</th>\n",
       "      <th>cName</th>\n",
       "      <th>rn1</th>\n",
       "    </tr>\n",
       "  </thead>\n",
       "  <tbody>\n",
       "    <tr>\n",
       "      <th>2</th>\n",
       "      <td>IT</td>\n",
       "      <td>dd</td>\n",
       "      <td>4.0</td>\n",
       "    </tr>\n",
       "    <tr>\n",
       "      <th>3</th>\n",
       "      <td>IT</td>\n",
       "      <td>aa</td>\n",
       "      <td>3.0</td>\n",
       "    </tr>\n",
       "    <tr>\n",
       "      <th>0</th>\n",
       "      <td>IT</td>\n",
       "      <td>Joe</td>\n",
       "      <td>2.0</td>\n",
       "    </tr>\n",
       "    <tr>\n",
       "      <th>1</th>\n",
       "      <td>IT</td>\n",
       "      <td>Max</td>\n",
       "      <td>1.0</td>\n",
       "    </tr>\n",
       "    <tr>\n",
       "      <th>5</th>\n",
       "      <td>Sales</td>\n",
       "      <td>Sam</td>\n",
       "      <td>2.0</td>\n",
       "    </tr>\n",
       "    <tr>\n",
       "      <th>4</th>\n",
       "      <td>Sales</td>\n",
       "      <td>Henry</td>\n",
       "      <td>1.0</td>\n",
       "    </tr>\n",
       "  </tbody>\n",
       "</table>\n",
       "</div>"
      ],
      "text/plain": [
       "    Name  cName  rn1\n",
       "2     IT     dd  4.0\n",
       "3     IT     aa  3.0\n",
       "0     IT    Joe  2.0\n",
       "1     IT    Max  1.0\n",
       "5  Sales    Sam  2.0\n",
       "4  Sales  Henry  1.0"
      ]
     },
     "execution_count": 89,
     "metadata": {},
     "output_type": "execute_result"
    }
   ],
   "source": [
    "#=(oo.assign(rn1=oo.groupby(['month'])['ordernum'].rank(method='dense',ascending=False))\n",
    "#.query('rn1< 3').sort_values(['month', 'rn1']).astype(int))\n",
    "pmee=pme.assign(rn1=pme.groupby(['Name'])['Salary'].rank(method='dense',ascending=False)).query('rn1<6').sort_values(['Id','Salary'])\n",
    "pmee[['Name','cName','rn1']]"
   ]
  },
  {
   "cell_type": "markdown",
   "metadata": {},
   "source": [
    "# way2"
   ]
  },
  {
   "cell_type": "code",
   "execution_count": 54,
   "metadata": {},
   "outputs": [
    {
     "name": "stdout",
     "output_type": "stream",
     "text": [
      "   Id   Name  cId  cName  Salary  DepartmentId  rank\n",
      "2   1     IT    5     dd    2000             1     1\n",
      "3   1     IT    6     aa    3000             1     2\n",
      "0   1     IT    1    Joe   70000             1     3\n",
      "1   1     IT    4    Max   90000             1     4\n",
      "5   2  Sales    3    Sam   60000             2     1\n",
      "4   2  Sales    2  Henry   80000             2     2\n",
      "    Name  cName  rank\n",
      "2     IT     dd     1\n",
      "3     IT     aa     2\n",
      "0     IT    Joe     3\n",
      "1     IT    Max     4\n",
      "5  Sales    Sam     1\n",
      "4  Sales  Henry     2\n",
      "    Name  cName  rank\n",
      "2     IT     dd     1\n",
      "3     IT     aa     2\n",
      "5  Sales    Sam     1\n",
      "4  Sales  Henry     2\n"
     ]
    }
   ],
   "source": [
    "#oo1['rank']=oo1.groupby(['month'])['ordernum'].rank(method='first',ascending=False).astype(int)\n",
    "#oo1.sort_values('month') #default is True\n",
    "                                                     \n",
    "pme['rank']=pme.groupby(['Name'])['Salary'].rank(method='first',ascending=True).astype(int)\n",
    "\n",
    "# after groupby, pme changed\n",
    "print(pme.sort_values(['Id','Salary']))\n",
    "#aftwe sort_value, pme is not changed.\n",
    "print(pme.sort_values(['Id','Salary'])[['Name','cName','rank']])\n",
    "pme1=pme.sort_values(['Id','Salary'])[['Name','cName','rank']]\n",
    "print(pme1[pme1['rank']<3])"
   ]
  },
  {
   "cell_type": "code",
   "execution_count": 35,
   "metadata": {},
   "outputs": [
    {
     "name": "stdout",
     "output_type": "stream",
     "text": [
      "   Id   Name  cId  cName  Salary  DepartmentId  rank\n",
      "0   1     IT    1    Joe   70000             1     3\n",
      "4   2  Sales    2  Henry   80000             2     2\n",
      "5   2  Sales    3    Sam   60000             2     1\n",
      "1   1     IT    4    Max   90000             1     4\n",
      "2   1     IT    5     dd    2000             1     1\n",
      "3   1     IT    6     aa    3000             1     2\n"
     ]
    }
   ],
   "source": [
    "print(pme.sort_values(by=['cId']))\n"
   ]
  },
  {
   "cell_type": "markdown",
   "metadata": {},
   "source": [
    "# SQL WINDOWS FUNCTION"
   ]
  },
  {
   "cell_type": "markdown",
   "metadata": {},
   "source": [
    "#sql\n",
    "\n",
    "\n",
    "drop table if exists q184Department;\n",
    "\n",
    "Create table If Not Exists q184Employee (customerId int, Name varchar(255), Salary int, DepartmentId int);\n",
    "\n",
    "Create table If Not Exists q184Department (depId int, Name varchar(255));\n",
    "Truncate table q184Employee;\n",
    "\n",
    "insert into q184Employee values ('101', 'Joe', '70000', '1');\n",
    "\n",
    "insert into q184Employee values ('201', 'Jim', '90000', '1');  \n",
    "\n",
    "insert into q184Employee values ('109', 'Henry', '80000', '2'); \n",
    "\n",
    "insert into q184Employee values ('104', 'Sam', '60000', '2');\n",
    "\n",
    "insert into q184Employee values ('205', 'Max', '90000', '1');\n",
    "\n",
    "Truncate table q184Department;\n",
    "\n",
    "insert into q184Department values ('1', 'IT');\n",
    "\n",
    "insert into q184Department values ('2', 'Sales');\n",
    "\n",
    "\n",
    "select d.Name, e.Name, rank() over (partition by d.Name, customerId order by Salary desc) as rk\n",
    "\n",
    "from q184Employee e join q184Department d on e.DepartmentId=d.depId"
   ]
  },
  {
   "cell_type": "code",
   "execution_count": null,
   "metadata": {},
   "outputs": [],
   "source": []
  }
 ],
 "metadata": {
  "anaconda-cloud": {},
  "kernelspec": {
   "display_name": "Python 3",
   "language": "python",
   "name": "python3"
  },
  "language_info": {
   "codemirror_mode": {
    "name": "ipython",
    "version": 3
   },
   "file_extension": ".py",
   "mimetype": "text/x-python",
   "name": "python",
   "nbconvert_exporter": "python",
   "pygments_lexer": "ipython3",
   "version": "3.6.3"
  }
 },
 "nbformat": 4,
 "nbformat_minor": 1
}
